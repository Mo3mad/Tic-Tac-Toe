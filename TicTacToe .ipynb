{
 "cells": [
  {
   "cell_type": "markdown",
   "metadata": {
    "colab_type": "text",
    "id": "aAjb_hDyTKQh"
   },
   "source": [
    "# Tic Tac Toe Game \n",
    "##### Scratch Building\n",
    "##### No GUI Required "
   ]
  },
  {
   "cell_type": "markdown",
   "metadata": {
    "colab_type": "text",
    "id": "NG1KZg4sTKQj"
   },
   "source": [
    "#### Some suggested tools before you get started:\n",
    "To take input from a user:\n",
    "\n",
    "    player1 = input(\"Please pick a marker 'X' or 'O'\")\n",
    "    \n",
    "Note that input() takes in a string. If you need an integer value, use\n",
    "\n",
    "    position = int(input('Please enter a number'))\n",
    "    \n",
    "<br>To clear the screen between moves:\n",
    "\n",
    "    from IPython.display import clear_output\n",
    "    clear_output()\n",
    "    \n",
    "Note that clear_output() will only work in jupyter. To clear the screen in other IDEs, consider:\n",
    "\n",
    "    print('\\n'*100)\n",
    "    \n",
    "This scrolls the previous board up out of view. Now on to the program!"
   ]
  },
  {
   "cell_type": "markdown",
   "metadata": {
    "colab_type": "text",
    "id": "eq31aKoKTKQk"
   },
   "source": [
    "**Step 1: Write a function that can print out a board. Set up your board as a list, where each index 1-9 corresponds with a number on a number pad, so you get a 3 by 3 board representation.**"
   ]
  },
  {
   "cell_type": "code",
   "execution_count": 1,
   "metadata": {
    "colab": {},
    "colab_type": "code",
    "id": "v6oZEXZXTKQl"
   },
   "outputs": [],
   "source": [
    "from IPython.display import clear_output\n",
    "\n",
    "def display_board(board):\n",
    "    clear_output()\n",
    "    print(board[7],\"!\",board[8],\"!\",board[9])\n",
    "    print(board[4],\"!\",board[5],\"!\",board[6])\n",
    "    print(board[1],\"!\",board[2],\"!\",board[3])"
   ]
  },
  {
   "cell_type": "markdown",
   "metadata": {
    "colab_type": "text",
    "id": "YE-nz_ETTKQo"
   },
   "source": [
    "**TEST Step 1:** run your function on a test version of the board list, and make adjustments as necessary"
   ]
  },
  {
   "cell_type": "code",
   "execution_count": 2,
   "metadata": {
    "colab": {},
    "colab_type": "code",
    "id": "4iQ9D-u5TKQp"
   },
   "outputs": [
    {
     "name": "stdout",
     "output_type": "stream",
     "text": [
      "x ! o ! x\n",
      "o ! x ! o\n",
      "x ! o ! x\n"
     ]
    }
   ],
   "source": [
    "test_board = ['','x','o','x','o','x','o','x','o','x']\n",
    "display_board(test_board)"
   ]
  },
  {
   "cell_type": "markdown",
   "metadata": {
    "colab_type": "text",
    "id": "WxeUw0FhTKQr"
   },
   "source": [
    "**Step 2: Write a function that can take in a player input and assign their marker as 'X' or 'O'. Think about using *while* loops to continually ask until you get a correct answer.**"
   ]
  },
  {
   "cell_type": "code",
   "execution_count": 3,
   "metadata": {
    "colab": {},
    "colab_type": "code",
    "id": "MG0XC4aXTKQs"
   },
   "outputs": [],
   "source": [
    "def player_input():\n",
    "    global player1_input\n",
    "    global player2_input\n",
    "    player1_input=input(\"Please pick a marker 'X' or 'O' \\n\")\n",
    "    player1_input= player1_input.upper()\n",
    "    while(player1_input!='X' and player1_input!='O'):\n",
    "        player1_input =input(\"Please pick a marker 'X' or 'O' \\n\")\n",
    "        player1_input=player1_input.upper()\n",
    "    if player1_input=='X':\n",
    "        player2_input='O'\n",
    "    else:\n",
    "        player2_input='X'\n"
   ]
  },
  {
   "cell_type": "markdown",
   "metadata": {
    "colab_type": "text",
    "id": "6fVimbgzTKQu"
   },
   "source": [
    "**TEST Step 2:** run the function to make sure it returns the desired output"
   ]
  },
  {
   "cell_type": "code",
   "execution_count": 4,
   "metadata": {
    "colab": {},
    "colab_type": "code",
    "id": "PJSO5QX1TKQu"
   },
   "outputs": [
    {
     "name": "stdout",
     "output_type": "stream",
     "text": [
      "Please pick a marker 'X' or 'O' \n",
      "\n",
      "Please pick a marker 'X' or 'O' \n",
      "x\n"
     ]
    }
   ],
   "source": [
    "player_input()"
   ]
  },
  {
   "cell_type": "code",
   "execution_count": null,
   "metadata": {},
   "outputs": [],
   "source": []
  },
  {
   "cell_type": "markdown",
   "metadata": {
    "colab_type": "text",
    "id": "aQN1q9gGTKQw"
   },
   "source": [
    "**Step 3: Write a function that takes in the board list object, a marker ('X' or 'O'), and a desired position (number 1-9) and assigns it to the board.**"
   ]
  },
  {
   "cell_type": "code",
   "execution_count": 5,
   "metadata": {
    "colab": {},
    "colab_type": "code",
    "id": "drK45WDaTKQx"
   },
   "outputs": [],
   "source": [
    "def place_marker(board, marker, position):\n",
    "    board[position]=marker\n",
    "    "
   ]
  },
  {
   "cell_type": "markdown",
   "metadata": {
    "colab_type": "text",
    "id": "gapk660ATKQz"
   },
   "source": [
    "**TEST Step 3:** run the place marker function using test parameters and display the modified board"
   ]
  },
  {
   "cell_type": "code",
   "execution_count": 6,
   "metadata": {
    "colab": {},
    "colab_type": "code",
    "id": "4vIDyBjrTKQ0"
   },
   "outputs": [
    {
     "name": "stdout",
     "output_type": "stream",
     "text": [
      "x ! $ ! x\n",
      "o ! x ! o\n",
      "x ! o ! x\n"
     ]
    }
   ],
   "source": [
    "place_marker(test_board,'$',8)\n",
    "display_board(test_board)"
   ]
  },
  {
   "cell_type": "markdown",
   "metadata": {
    "colab_type": "text",
    "id": "vRuvrYsVTKQ2"
   },
   "source": [
    "**Step 4: Write a function that takes in a board and a mark (X or O) and then checks to see if that mark has won. **"
   ]
  },
  {
   "cell_type": "code",
   "execution_count": 7,
   "metadata": {
    "colab": {},
    "colab_type": "code",
    "id": "Zl_L_t1xTKQ2"
   },
   "outputs": [],
   "source": [
    "def win_check(board, mark):\n",
    "    if ((board[7]==board[8]==board[9]==mark)or\n",
    "        (board[4]==board[5]==board[6]==mark)or\n",
    "        (board[1]==board[2]==board[3]==mark)or\n",
    "        (board[9]==board[5]==board[1]==mark)or\n",
    "        (board[7]==board[5]==board[3]==mark)or\n",
    "        (board[7]==board[4]==board[1]==mark)or\n",
    "        (board[8]==board[5]==board[2]==mark)or\n",
    "        (board[9]==board[6]==board[3]==mark)):\n",
    "        if mark==player1_input:\n",
    "            print('player1 is the winner')\n",
    "            return True\n",
    "        elif mark == player2_input:\n",
    "            print('player2 is the winner')\n",
    "            return True"
   ]
  },
  {
   "cell_type": "markdown",
   "metadata": {
    "colab_type": "text",
    "id": "D9tY6vCHTKQ4"
   },
   "source": [
    "**TEST Step 4:** run the win_check function against our test_board - it should return True"
   ]
  },
  {
   "cell_type": "code",
   "execution_count": 8,
   "metadata": {
    "colab": {},
    "colab_type": "code",
    "id": "W_rBIIOCTKQ5"
   },
   "outputs": [],
   "source": [
    "win_check(test_board,'x')"
   ]
  },
  {
   "cell_type": "markdown",
   "metadata": {
    "colab_type": "text",
    "id": "ROj56ItpTKQ7"
   },
   "source": [
    "**Step 5: Write a function that uses the random module to randomly decide which player goes first. You may want to lookup random.randint() Return a string of which player went first.**"
   ]
  },
  {
   "cell_type": "code",
   "execution_count": 9,
   "metadata": {
    "colab": {},
    "colab_type": "code",
    "id": "NMgrAjU3TKQ7"
   },
   "outputs": [],
   "source": [
    "import random\n",
    "\n",
    "def choose_first():\n",
    "    pass"
   ]
  },
  {
   "cell_type": "markdown",
   "metadata": {
    "colab_type": "text",
    "id": "7H1uXKU-TKQ9"
   },
   "source": [
    "**Step 6: Write a function that returns a boolean indicating whether a space on the board is freely available.**"
   ]
  },
  {
   "cell_type": "code",
   "execution_count": 10,
   "metadata": {
    "colab": {},
    "colab_type": "code",
    "id": "i0rtv4b3TKQ-"
   },
   "outputs": [],
   "source": [
    "def space_check(board, position):\n",
    "    while(board[position]=='X' or board[position]=='O'):\n",
    "        player_choice(board)\n",
    "        if board[position]!='X' and board[position]!='O':\n",
    "            break"
   ]
  },
  {
   "cell_type": "markdown",
   "metadata": {
    "colab_type": "text",
    "id": "TKfVJE_KTKRA"
   },
   "source": [
    "**Step 7: Write a function that checks if the board is full and returns a boolean value. True if full, False otherwise.**"
   ]
  },
  {
   "cell_type": "code",
   "execution_count": 11,
   "metadata": {
    "colab": {},
    "colab_type": "code",
    "id": "Vsa0TroYTKRB"
   },
   "outputs": [],
   "source": [
    "def full_board_check(board):\n",
    "    if ((board[7]=='X' or board[7]=='O')and\n",
    "        (board[8]=='X' or board[8]=='O')and\n",
    "        (board[9]=='X' or board[9]=='O')and\n",
    "        (board[4]=='X' or board[4]=='O')and\n",
    "        (board[5]=='X' or board[5]=='O')and\n",
    "        (board[6]=='X' or board[6]=='O')and\n",
    "        (board[1]=='X' or board[1]=='O')and\n",
    "        (board[2]=='X' or board[2]=='O')and\n",
    "        (board[3]=='X' or board[3]=='O')):\n",
    "        print(\"Game over >> 'DRAW'\")\n",
    "        return True"
   ]
  },
  {
   "cell_type": "markdown",
   "metadata": {
    "colab_type": "text",
    "id": "ju-R3rRATKRD"
   },
   "source": [
    "**Step 8: Write a function that asks for a player's next position (as a number 1-9) and then uses the function from step 6 to check if it's a free position. If it is, then return the position for later use.**"
   ]
  },
  {
   "cell_type": "code",
   "execution_count": 12,
   "metadata": {
    "colab": {},
    "colab_type": "code",
    "id": "zLusZVZETKRE"
   },
   "outputs": [],
   "source": [
    "def player_choice(board):\n",
    "     p_posistion = int(input(\"Enter , the next posistion\"))\n",
    "     while(p_posistion!=1 and p_posistion !=2 and p_posistion !=3 and p_posistion !=4 and p_posistion !=5 and p_posistion !=6 and p_posistion !=7 and p_posistion !=8 and p_posistion !=9):\n",
    "            print('invalid')\n",
    "            p_posistion = p_posistion = int(input())\n",
    "     return p_posistion"
   ]
  },
  {
   "cell_type": "markdown",
   "metadata": {
    "colab_type": "text",
    "id": "E9ryWxTdTKRG"
   },
   "source": [
    "**Step 9: Write a function that asks the player if they want to play again and returns a boolean True if they do want to play again.**"
   ]
  },
  {
   "cell_type": "code",
   "execution_count": 13,
   "metadata": {
    "colab": {},
    "colab_type": "code",
    "id": "1_Nt3ngsTKRG"
   },
   "outputs": [],
   "source": [
    "def replay():\n",
    "    ask_again=input(\"Do you want to play again enter 'Y' for playing or any key to exit\")\n",
    "    if ask_again=='Y' or ask_again == 'y':\n",
    "        clear_output()\n",
    "        return True\n",
    "    \n",
    "    pass"
   ]
  },
  {
   "cell_type": "markdown",
   "metadata": {
    "colab_type": "text",
    "collapsed": true,
    "id": "gjLdHz0MTKRI"
   },
   "source": [
    "**Step 10: Here comes the hard part! Use while loops and the functions you've made to run the game!**"
   ]
  },
  {
   "cell_type": "code",
   "execution_count": 14,
   "metadata": {
    "colab": {},
    "colab_type": "code",
    "id": "84vKO9k9TKRJ"
   },
   "outputs": [],
   "source": [
    "\n",
    "print('Welcome to Tic Tac Toe!')\n",
    "\n",
    "while True:\n",
    "    # Set the game up here\n",
    "    game_board = ['','1','2','3','4','5','6','7','8','9']\n",
    "    player_input()\n",
    "    display_board(game_board)\n",
    "    while True:\n",
    "        #Player 1 Turn\n",
    "        pos=player_choice(game_board)\n",
    "        space_check(game_board,pos)\n",
    "        place_marker(game_board,player1_input,pos)\n",
    "        display_board(game_board)\n",
    "        flag_win1=win_check(game_board,player1_input)\n",
    "        if flag_win1==True:\n",
    "            break\n",
    "        flag_full1=full_board_check(game_board)\n",
    "        if flag_full1==True:\n",
    "            break\n",
    "        # Player2's turn.\n",
    "        pos=player_choice(game_board)\n",
    "        space_check(game_board,pos)\n",
    "        place_marker(game_board,player2_input,pos)\n",
    "        display_board(game_board)\n",
    "        flag_win2=win_check(game_board,player2_input)\n",
    "        if flag_win2 == True:\n",
    "            break\n",
    "        flag_full2=full_board_check(game_board)\n",
    "        if flag_full2 == True:\n",
    "            break\n",
    "          \n",
    "    asking=replay()\n",
    "    if asking!=True:\n",
    "        clear_output()\n",
    "        break\n",
    "\n",
    "  "
   ]
  },
  {
   "cell_type": "code",
   "execution_count": null,
   "metadata": {},
   "outputs": [],
   "source": []
  },
  {
   "cell_type": "code",
   "execution_count": null,
   "metadata": {},
   "outputs": [],
   "source": []
  }
 ],
 "metadata": {
  "colab": {
   "name": "TicTacToe.ipynb",
   "provenance": []
  },
  "kernelspec": {
   "display_name": "Python 3",
   "language": "python",
   "name": "python3"
  },
  "language_info": {
   "codemirror_mode": {
    "name": "ipython",
    "version": 3
   },
   "file_extension": ".py",
   "mimetype": "text/x-python",
   "name": "python",
   "nbconvert_exporter": "python",
   "pygments_lexer": "ipython3",
   "version": "3.7.4"
  }
 },
 "nbformat": 4,
 "nbformat_minor": 1
}
